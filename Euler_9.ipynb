{
 "cells": [
  {
   "cell_type": "markdown",
   "metadata": {},
   "source": [
    "Special Pythagorean triplet\n",
    "\n",
    "Problem 9\n",
    "\n",
    "A Pythagorean triplet is a set of three natural numbers, $a < b < c$, for which, $a^2 + b^2 = c^2$\n",
    "\n",
    "For example, $3^2 + 4^2 = 9 + 16 = 25 = 5^2$.\n",
    "\n",
    "There exists exactly one Pythagorean triplet for which $a + b + c = 1000$.\n",
    "Find the product abc."
   ]
  },
  {
   "cell_type": "code",
   "execution_count": 12,
   "metadata": {
    "collapsed": true
   },
   "outputs": [],
   "source": [
    "def sum_is_1000(a, b, c) :\n",
    "    return a + b + c == 1000"
   ]
  },
  {
   "cell_type": "code",
   "execution_count": 9,
   "metadata": {
    "collapsed": true
   },
   "outputs": [],
   "source": [
    "def is_pyth_triple(a, b, c) :\n",
    "    return a**2 + b**2 == c**2"
   ]
  },
  {
   "cell_type": "code",
   "execution_count": 44,
   "metadata": {},
   "outputs": [],
   "source": [
    "# Here I started with the range(1,100) and just sort of went up and did tests along the way to reduce the amount of \n",
    "# direct computation time since just going straight to range(999) cost too much time.\n",
    "test = [(a,b,c) for a in range(200,597) for b in range ((a+1), 598) for c in range ((b+1), 599) if is_pyth_triple(a, b, c)]"
   ]
  },
  {
   "cell_type": "code",
   "execution_count": 45,
   "metadata": {},
   "outputs": [
    {
     "name": "stdout",
     "output_type": "stream",
     "text": [
      "[(200, 210, 290), (200, 375, 425), (200, 480, 520), (201, 268, 335), (203, 396, 445), (204, 253, 325), (204, 272, 340), (204, 560, 596), (205, 492, 533), (207, 224, 305), (207, 276, 345), (208, 306, 370), (208, 390, 442), (210, 280, 350), (210, 416, 466), (210, 504, 546), (213, 284, 355), (215, 516, 559), (216, 288, 360), (216, 405, 459), (216, 462, 510), (217, 456, 505), (219, 292, 365), (220, 231, 319), (220, 459, 509), (220, 528, 572), (222, 296, 370), (224, 360, 424), (224, 420, 476), (225, 272, 353), (225, 300, 375), (225, 540, 585), (228, 304, 380), (228, 325, 397), (230, 504, 554), (230, 552, 598), (231, 308, 385), (231, 392, 455), (231, 520, 569), (232, 435, 493), (234, 312, 390), (234, 480, 534), (237, 316, 395), (238, 240, 338), (240, 252, 348), (240, 275, 365), (240, 320, 400), (240, 364, 436), (240, 418, 482), (240, 450, 510), (243, 324, 405), (246, 328, 410), (248, 465, 527), (249, 332, 415), (252, 275, 373), (252, 336, 420), (252, 405, 477), (252, 539, 595), (255, 340, 425), (255, 396, 471), (256, 480, 544), (258, 344, 430), (260, 273, 377), (260, 288, 388), (261, 348, 435), (261, 380, 461), (264, 315, 411), (264, 352, 440), (264, 448, 520), (264, 495, 561), (266, 312, 410), (267, 356, 445), (270, 360, 450), (272, 510, 578), (273, 364, 455), (276, 368, 460), (276, 493, 565), (279, 372, 465), (279, 440, 521), (280, 294, 406), (280, 342, 442), (280, 351, 449), (280, 450, 530), (280, 525, 595), (282, 376, 470), (285, 380, 475), (285, 504, 579), (288, 330, 438), (288, 384, 480), (291, 388, 485), (294, 392, 490), (297, 304, 425), (297, 396, 495), (297, 504, 585), (300, 315, 435), (300, 400, 500), (300, 455, 545), (303, 404, 505), (306, 408, 510), (308, 435, 533), (308, 495, 583), (309, 412, 515), (312, 416, 520), (312, 459, 555), (315, 420, 525), (318, 424, 530), (319, 360, 481), (320, 336, 464), (320, 462, 562), (321, 428, 535), (322, 480, 578), (324, 432, 540), (325, 360, 485), (327, 436, 545), (330, 440, 550), (333, 444, 555), (336, 377, 505), (336, 385, 511), (336, 448, 560), (339, 452, 565), (340, 357, 493), (341, 420, 541), (342, 456, 570), (345, 460, 575), (348, 464, 580), (351, 468, 585), (352, 420, 548), (354, 472, 590), (357, 360, 507), (357, 476, 595), (360, 378, 522), (368, 465, 593), (380, 399, 551), (384, 440, 584), (390, 432, 582), (396, 403, 565), (400, 420, 580)]\n"
     ]
    }
   ],
   "source": [
    "print(test)"
   ]
  },
  {
   "cell_type": "code",
   "execution_count": 47,
   "metadata": {},
   "outputs": [],
   "source": [
    "test1 = [x for x in test if sum_is_1000(*x)]"
   ]
  },
  {
   "cell_type": "code",
   "execution_count": 50,
   "metadata": {},
   "outputs": [],
   "source": [
    "test1 = test1[0]"
   ]
  },
  {
   "cell_type": "code",
   "execution_count": 51,
   "metadata": {},
   "outputs": [
    {
     "data": {
      "text/plain": [
       "True"
      ]
     },
     "execution_count": 51,
     "metadata": {},
     "output_type": "execute_result"
    }
   ],
   "source": [
    "sum_is_1000(*test1)"
   ]
  },
  {
   "cell_type": "code",
   "execution_count": 52,
   "metadata": {},
   "outputs": [
    {
     "data": {
      "text/plain": [
       "(200, 375, 425)"
      ]
     },
     "execution_count": 52,
     "metadata": {},
     "output_type": "execute_result"
    }
   ],
   "source": [
    "test1"
   ]
  },
  {
   "cell_type": "code",
   "execution_count": 53,
   "metadata": {},
   "outputs": [
    {
     "data": {
      "text/plain": [
       "31875000"
      ]
     },
     "execution_count": 53,
     "metadata": {},
     "output_type": "execute_result"
    }
   ],
   "source": [
    "200*375*425"
   ]
  },
  {
   "cell_type": "code",
   "execution_count": null,
   "metadata": {
    "collapsed": true
   },
   "outputs": [],
   "source": []
  }
 ],
 "metadata": {
  "kernelspec": {
   "display_name": "Python 3",
   "language": "python",
   "name": "python3"
  },
  "language_info": {
   "codemirror_mode": {
    "name": "ipython",
    "version": 3
   },
   "file_extension": ".py",
   "mimetype": "text/x-python",
   "name": "python",
   "nbconvert_exporter": "python",
   "pygments_lexer": "ipython3",
   "version": "3.6.1"
  }
 },
 "nbformat": 4,
 "nbformat_minor": 2
}
